{
 "cells": [
  {
   "cell_type": "markdown",
   "id": "4ac9602a",
   "metadata": {},
   "source": [
    "## Python Basic Programming Assignment - 5\n",
    "--------------\n"
   ]
  },
  {
   "cell_type": "markdown",
   "id": "fdaeee06",
   "metadata": {},
   "source": [
    "### 1. Write a Python Program to Find LCM?"
   ]
  },
  {
   "cell_type": "code",
   "execution_count": 16,
   "id": "0533e0e7",
   "metadata": {},
   "outputs": [
    {
     "name": "stdout",
     "output_type": "stream",
     "text": [
      "Enter the numbers separated by space: 13 14\n",
      "LCM of 14 and 13 is 182\n"
     ]
    }
   ],
   "source": [
    "a,b=[int(n) for n in input(\"Enter the numbers separated by space: \").split()]\n",
    "if(a>b):\n",
    "    pass\n",
    "else:\n",
    "    a=a+b\n",
    "    b=a-b\n",
    "    a=a-b\n",
    "i=1\n",
    "while(i):\n",
    "    if((a*i)%b==0):\n",
    "        print(\"LCM of {} and {} is {}\".format(a,b,a*i))\n",
    "        break\n",
    "    else:\n",
    "        i=i+1       "
   ]
  },
  {
   "cell_type": "markdown",
   "id": "2f459cdf",
   "metadata": {},
   "source": [
    "### 2. Write a Python Program to Find HCF?"
   ]
  },
  {
   "cell_type": "code",
   "execution_count": 35,
   "id": "2e461f99",
   "metadata": {},
   "outputs": [
    {
     "name": "stdout",
     "output_type": "stream",
     "text": [
      "Enter the numbers separated by space: 96 24\n",
      "HCF of 96 and 24 is 24\n"
     ]
    }
   ],
   "source": [
    "a,b=[int(n) for n in input(\"Enter the numbers separated by space: \").split()]\n",
    "if(a>b):\n",
    "    pass\n",
    "else:\n",
    "    a=a+b\n",
    "    b=a-b\n",
    "    a=a-b\n",
    "i=1\n",
    "while(i):\n",
    "    if(a%(b-i+1)==0 and b%(b-i+1)==0):\n",
    "        print(\"HCF of {} and {} is {}\".format(a,b,(b-i+1)))\n",
    "        break\n",
    "    else:\n",
    "        i=i+1"
   ]
  },
  {
   "cell_type": "markdown",
   "id": "d2c29370",
   "metadata": {},
   "source": [
    "### 3. Write a Python Program to Convert Decimal to Binary, Octal and Hexadecimal?"
   ]
  },
  {
   "cell_type": "code",
   "execution_count": 3,
   "id": "1335879c",
   "metadata": {},
   "outputs": [
    {
     "name": "stdout",
     "output_type": "stream",
     "text": [
      "Enter a decimal number: 89\n",
      "Binary number is 0b1011001\n",
      "Octal number is 0o131\n",
      "Hexadecimal number is 0x59\n"
     ]
    }
   ],
   "source": [
    "n=int(input(\"Enter a decimal number: \"))\n",
    "print(\"Binary number is {}\".format(bin(n)))\n",
    "print(\"Octal number is {}\".format(oct(n)))\n",
    "print(\"Hexadecimal number is {}\".format(hex(n)))"
   ]
  },
  {
   "cell_type": "markdown",
   "id": "2a16c5fd",
   "metadata": {},
   "source": [
    "### 4. Write a Python Program To Find ASCII value of a character?"
   ]
  },
  {
   "cell_type": "code",
   "execution_count": 6,
   "id": "5fbb38e7",
   "metadata": {},
   "outputs": [
    {
     "name": "stdout",
     "output_type": "stream",
     "text": [
      "Enter any character: A\n",
      "ASCII value is= 65\n"
     ]
    }
   ],
   "source": [
    "a=input(\"Enter any character: \")\n",
    "print(\"ASCII value is= {}\".format(ord(a)))"
   ]
  },
  {
   "cell_type": "markdown",
   "id": "226778a0",
   "metadata": {},
   "source": [
    "### 5. Write a Python Program to Make a Simple Calculator with 4 basic mathematical operations?"
   ]
  },
  {
   "cell_type": "code",
   "execution_count": 7,
   "id": "151e76b0",
   "metadata": {},
   "outputs": [
    {
     "name": "stdout",
     "output_type": "stream",
     "text": [
      "Enter two numbers separated by space: 8 4\n",
      "Sum is= 12\n",
      "Subtraction is= 4\n",
      "Multiplication is= 32\n",
      "Division is= 2.0\n"
     ]
    }
   ],
   "source": [
    "a,b=[int(n) for n in input(\"Enter two numbers separated by space: \").split()]\n",
    "print(\"Sum is= {}\".format(a+b))\n",
    "print(\"Subtraction is= {}\".format(a-b))\n",
    "print(\"Multiplication is= {}\".format(a*b))\n",
    "print(\"Division is= {}\".format(a/b))"
   ]
  }
 ],
 "metadata": {
  "kernelspec": {
   "display_name": "Python 3 (ipykernel)",
   "language": "python",
   "name": "python3"
  },
  "language_info": {
   "codemirror_mode": {
    "name": "ipython",
    "version": 3
   },
   "file_extension": ".py",
   "mimetype": "text/x-python",
   "name": "python",
   "nbconvert_exporter": "python",
   "pygments_lexer": "ipython3",
   "version": "3.9.12"
  }
 },
 "nbformat": 4,
 "nbformat_minor": 5
}
