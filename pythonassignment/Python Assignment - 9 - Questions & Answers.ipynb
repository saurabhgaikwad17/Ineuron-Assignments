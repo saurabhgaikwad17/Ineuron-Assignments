{
 "cells": [
  {
   "cell_type": "markdown",
   "id": "47b9bb99",
   "metadata": {},
   "source": [
    "## Programming Assignment_9\n",
    "----------------"
   ]
  },
  {
   "cell_type": "markdown",
   "id": "c725f7a9",
   "metadata": {},
   "source": [
    "### 1. Write a Python program to check if the given number is a Disarium Number?"
   ]
  },
  {
   "cell_type": "code",
   "execution_count": 12,
   "id": "6bc039a2",
   "metadata": {},
   "outputs": [
    {
     "name": "stdout",
     "output_type": "stream",
     "text": [
      "Enter Any Number: 176\n",
      "Not a Disarium Number\n"
     ]
    }
   ],
   "source": [
    "n=int(input(\"Enter Any Number: \"))\n",
    "m=n\n",
    "a=[]\n",
    "sum=0\n",
    "while(m):\n",
    "    a.append(m%10)\n",
    "    m=m//10\n",
    "for i in (range(len(a))):\n",
    "    sum=sum+pow(a[i],len(a)-i)\n",
    "if(n==sum):\n",
    "    print(\"Disarium Number\")\n",
    "else:\n",
    "    print(\"Not a Disarium Number\")"
   ]
  },
  {
   "cell_type": "markdown",
   "id": "f0064401",
   "metadata": {},
   "source": [
    "### 2. Write a Python program to print all disarium numbers between 1 to 100?"
   ]
  },
  {
   "cell_type": "code",
   "execution_count": 1,
   "id": "473d2564",
   "metadata": {},
   "outputs": [
    {
     "name": "stdout",
     "output_type": "stream",
     "text": [
      "1\n",
      "2\n",
      "3\n",
      "4\n",
      "5\n",
      "6\n",
      "7\n",
      "8\n",
      "9\n",
      "89\n"
     ]
    }
   ],
   "source": [
    "def check_disarium(n):\n",
    "    m=n\n",
    "    a=[]\n",
    "    sum=0\n",
    "    while(m):\n",
    "        a.append(m%10)\n",
    "        m=m//10\n",
    "    for i in (range(len(a))):\n",
    "        sum=sum+pow(a[i],len(a)-i)\n",
    "    if(n==sum):\n",
    "        return True\n",
    "    else:\n",
    "        return False\n",
    "for i in range(100):\n",
    "    if(check_disarium(i+1)):\n",
    "        print(i+1)"
   ]
  },
  {
   "cell_type": "markdown",
   "id": "31df1e4a",
   "metadata": {},
   "source": [
    "### 3. Write a Python program to check if the given number is Happy Number?"
   ]
  },
  {
   "cell_type": "code",
   "execution_count": 3,
   "id": "6fadd049",
   "metadata": {},
   "outputs": [
    {
     "name": "stdout",
     "output_type": "stream",
     "text": [
      "Enter any number: 5\n",
      "Not a Happy Number\n"
     ]
    }
   ],
   "source": [
    "def sum_square_digits(n):\n",
    "    sum=0\n",
    "    while(n):\n",
    "        sum+=pow((n%10),2)\n",
    "        n=n//10\n",
    "    return sum\n",
    "n=int(input(\"Enter any number: \"))\n",
    "m=n\n",
    "while(m>9):\n",
    "    m=sum_square_digits(m)\n",
    "if(m==1):\n",
    "    print(\"Happy Number\")\n",
    "else:\n",
    "    print(\"Not a Happy Number\")"
   ]
  },
  {
   "cell_type": "markdown",
   "id": "51b265e3",
   "metadata": {},
   "source": [
    "### 4. Write a Python program to print all happy numbers between 1 and 100?"
   ]
  },
  {
   "cell_type": "code",
   "execution_count": 6,
   "id": "8371f6e8",
   "metadata": {},
   "outputs": [
    {
     "name": "stdout",
     "output_type": "stream",
     "text": [
      "1\n",
      "10\n",
      "13\n",
      "19\n",
      "23\n",
      "28\n",
      "31\n",
      "32\n",
      "44\n",
      "49\n",
      "68\n",
      "70\n",
      "79\n",
      "82\n",
      "86\n",
      "91\n",
      "94\n",
      "97\n",
      "100\n"
     ]
    }
   ],
   "source": [
    "def sum_square_digits(n):\n",
    "    sum=0\n",
    "    while(n):\n",
    "        sum+=pow((n%10),2)\n",
    "        n=n//10\n",
    "    return sum\n",
    "\n",
    "def check_happy(n):\n",
    "    m=n\n",
    "    while(m>9):\n",
    "        m=sum_square_digits(m)\n",
    "    if(m==1):\n",
    "        return 1\n",
    "    else:\n",
    "        return 0\n",
    "        \n",
    "for i in range(100):\n",
    "    if(check_happy(i+1)==1):\n",
    "        print(i+1)"
   ]
  },
  {
   "cell_type": "markdown",
   "id": "6a190ee0",
   "metadata": {},
   "source": [
    "### 5. Write a Python program to determine whether the given number is a Harshad Number?"
   ]
  },
  {
   "cell_type": "code",
   "execution_count": 9,
   "id": "23694845",
   "metadata": {},
   "outputs": [
    {
     "name": "stdout",
     "output_type": "stream",
     "text": [
      "Enter any number: 152\n",
      "Harshad Number\n"
     ]
    }
   ],
   "source": [
    "def check_harshad(n):\n",
    "    m=n\n",
    "    sum=0\n",
    "    while(m):\n",
    "        sum+=(m%10)\n",
    "        m=m//10\n",
    "    if(n%sum==0):\n",
    "        return True\n",
    "    else:\n",
    "        return False\n",
    "\n",
    "n=int(input(\"Enter any number: \"))\n",
    "if(check_harshad(n)):\n",
    "    print(\"Harshad Number\")\n",
    "else:\n",
    "    print(\"Not a Harshad Number\")"
   ]
  },
  {
   "cell_type": "markdown",
   "id": "7a7ea92e",
   "metadata": {},
   "source": [
    "### 6. Write a Python program to print all pronic numbers between 1 and 100?"
   ]
  },
  {
   "cell_type": "code",
   "execution_count": 12,
   "id": "1c7dd313",
   "metadata": {},
   "outputs": [
    {
     "name": "stdout",
     "output_type": "stream",
     "text": [
      "2\n",
      "6\n",
      "12\n",
      "20\n",
      "30\n",
      "42\n",
      "56\n",
      "72\n",
      "90\n"
     ]
    }
   ],
   "source": [
    "i=1\n",
    "n=i*(i+1)\n",
    "while(n<100):\n",
    "    print(n)\n",
    "    i+=1\n",
    "    n=i*(i+1)"
   ]
  }
 ],
 "metadata": {
  "kernelspec": {
   "display_name": "Python 3 (ipykernel)",
   "language": "python",
   "name": "python3"
  },
  "language_info": {
   "codemirror_mode": {
    "name": "ipython",
    "version": 3
   },
   "file_extension": ".py",
   "mimetype": "text/x-python",
   "name": "python",
   "nbconvert_exporter": "python",
   "pygments_lexer": "ipython3",
   "version": "3.10.6"
  }
 },
 "nbformat": 4,
 "nbformat_minor": 5
}
