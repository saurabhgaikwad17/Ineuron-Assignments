{
 "cells": [
  {
   "cell_type": "markdown",
   "id": "62fd0c8e",
   "metadata": {},
   "source": [
    "# Python Programming Basic Assignment 13"
   ]
  },
  {
   "cell_type": "markdown",
   "id": "ed4a3c0b",
   "metadata": {},
   "source": [
    "\n",
    "### 1. Write a program that calculates and prints the value according to the given formula:\n",
    "Q = Square root of [(2 C D)/H]\n",
    "\n",
    "Following are the fixed values of C and H:\n",
    "\n",
    "C is 50. H is 30.\n",
    "\n",
    "D is the variable whose values should be input to your program in a comma-separated sequence.\n",
    "\n",
    "Example\n",
    "\n",
    "Let us assume the following comma separated input sequence is given to the program:\n",
    "\n",
    "100,150,180\n",
    "\n",
    "The output of the program should be:\n",
    "\n",
    "18,22,24"
   ]
  },
  {
   "cell_type": "code",
   "execution_count": 9,
   "id": "429d852a-c192-471c-8054-d492113f8ed4",
   "metadata": {},
   "outputs": [
    {
     "name": "stdin",
     "output_type": "stream",
     "text": [
      " 89,21,45\n"
     ]
    },
    {
     "name": "stdout",
     "output_type": "stream",
     "text": [
      "[17, 8, 12]\n"
     ]
    }
   ],
   "source": [
    "import math\n",
    "c=50\n",
    "h=30\n",
    "d=[int(x) for x in input().split(',')]\n",
    "q=[int(math.sqrt((10/3)*x)) for x in d]\n",
    "print(q)"
   ]
  },
  {
   "cell_type": "markdown",
   "id": "ed37b6ed",
   "metadata": {},
   "source": [
    "### 2. Write a program which takes 2 digits, X,Y as input and generates a 2-dimensional array. The element value in the i-th row and j-th column of the array should be i*j."
   ]
  },
  {
   "cell_type": "code",
   "execution_count": 3,
   "id": "6d06f72a-bec4-424c-8994-9c789058c470",
   "metadata": {},
   "outputs": [
    {
     "name": "stdin",
     "output_type": "stream",
     "text": [
      "Enter the values of x,y: 9,9\n"
     ]
    },
    {
     "name": "stdout",
     "output_type": "stream",
     "text": [
      "[[ 0.  0.  0.  0.  0.  0.  0.  0.  0.]\n",
      " [ 0.  1.  2.  3.  4.  5.  6.  7.  8.]\n",
      " [ 0.  2.  4.  6.  8. 10. 12. 14. 16.]\n",
      " [ 0.  3.  6.  9. 12. 15. 18. 21. 24.]\n",
      " [ 0.  4.  8. 12. 16. 20. 24. 28. 32.]\n",
      " [ 0.  5. 10. 15. 20. 25. 30. 35. 40.]\n",
      " [ 0.  6. 12. 18. 24. 30. 36. 42. 48.]\n",
      " [ 0.  7. 14. 21. 28. 35. 42. 49. 56.]\n",
      " [ 0.  8. 16. 24. 32. 40. 48. 56. 64.]]\n"
     ]
    }
   ],
   "source": [
    "import numpy as np\n",
    "x,y=[int(x) for x in input(\"Enter the values of x,y:\").split(',')]\n",
    "a=np.zeros((x,y))\n",
    "for i in range(x):\n",
    "    for j in range(y):\n",
    "        a[i][j]=int(i*j)\n",
    "print(a)"
   ]
  },
  {
   "cell_type": "markdown",
   "id": "bc7f977b",
   "metadata": {},
   "source": [
    "### 3. Write a program that accepts a comma separated sequence of words as input and prints the words in a comma-separated sequence after sorting them alphabetically."
   ]
  },
  {
   "cell_type": "code",
   "execution_count": 20,
   "id": "e6c25b80-3af2-42ef-807c-e063aa0f73da",
   "metadata": {},
   "outputs": [
    {
     "name": "stdin",
     "output_type": "stream",
     "text": [
      "Enter the comma separated sequence of words:  divya,aditya\n"
     ]
    },
    {
     "name": "stdout",
     "output_type": "stream",
     "text": [
      "['aditya', 'divya']\n"
     ]
    }
   ],
   "source": [
    "a=[]\n",
    "a=[x for x in input(\"Enter the comma separated sequence of words: \").split(',')]\n",
    "a.sort()\n",
    "print(a)"
   ]
  },
  {
   "cell_type": "markdown",
   "id": "171c3d90",
   "metadata": {},
   "source": [
    "### 4. Write a program that accepts a sequence of whitespace separated words as input and prints the words after removing all duplicate words and sorting them alphanumerically."
   ]
  },
  {
   "cell_type": "code",
   "execution_count": 24,
   "id": "a4fb532c-1953-4f9a-b82e-044c8e24179c",
   "metadata": {},
   "outputs": [
    {
     "name": "stdin",
     "output_type": "stream",
     "text": [
      "Enter the comma separated sequence of words:  all is the man is te\n"
     ]
    },
    {
     "name": "stdout",
     "output_type": "stream",
     "text": [
      "['all', 'is', 'man', 'te', 'the']\n"
     ]
    }
   ],
   "source": [
    "a=[]\n",
    "a=[x for x in input(\"Enter the comma separated sequence of words: \").split(' ')]\n",
    "a=list(set(a))\n",
    "a.sort()\n",
    "print(a)"
   ]
  },
  {
   "cell_type": "markdown",
   "id": "88d25c49",
   "metadata": {},
   "source": [
    "### 5. Write a program that accepts a sentence and calculate the number of letters and digits."
   ]
  },
  {
   "cell_type": "code",
   "execution_count": 30,
   "id": "7a8b327e-cfcf-4910-991c-8b97be298563",
   "metadata": {},
   "outputs": [
    {
     "name": "stdin",
     "output_type": "stream",
     "text": [
      "Enter any sentence:  cow has 4 legs and 2 ears and 2 eyes\n"
     ]
    },
    {
     "name": "stdout",
     "output_type": "stream",
     "text": [
      "There are 24 letters and 3 digits.\n"
     ]
    }
   ],
   "source": [
    "a=input(\"Enter any sentence: \")\n",
    "letters=0\n",
    "digits=0\n",
    "for i in a:\n",
    "    if(i.isalpha()):\n",
    "        letters+=1\n",
    "    elif(i.isnumeric()):\n",
    "        digits+=1\n",
    "print(\"There are {} letters and {} digits.\".format(letters,digits))"
   ]
  },
  {
   "cell_type": "markdown",
   "id": "9695c4ca",
   "metadata": {},
   "source": [
    "### 6. A website requires the users to input username and password to register. Write a program to check the validity of password input by users."
   ]
  },
  {
   "cell_type": "code",
   "execution_count": 16,
   "id": "fbf1a21b-17aa-4f53-be8b-9406cc994440",
   "metadata": {},
   "outputs": [
    {
     "name": "stdin",
     "output_type": "stream",
     "text": [
      "Enter any password:  ADITYA@12\n"
     ]
    },
    {
     "name": "stdout",
     "output_type": "stream",
     "text": [
      "Invalid Password\n"
     ]
    }
   ],
   "source": [
    "import re\n",
    "a=input(\"Enter any password: \")\n",
    "regex=re.compile('[@_!#$%^&*()<>?/\\|}{~:]')\n",
    "if(regex.search(a)!=None and re.search(\"[a-z]\",a)!=None and re.search(\"[A-Z]\",a)!=None and re.search(\"[1-9]\",a)!=None):\n",
    "    print(\"Valid Password\")\n",
    "else:\n",
    "    print(\"Invalid Password\")"
   ]
  }
 ],
 "metadata": {
  "kernelspec": {
   "display_name": "Python 3 (ipykernel)",
   "language": "python",
   "name": "python3"
  },
  "language_info": {
   "codemirror_mode": {
    "name": "ipython",
    "version": 3
   },
   "file_extension": ".py",
   "mimetype": "text/x-python",
   "name": "python",
   "nbconvert_exporter": "python",
   "pygments_lexer": "ipython3",
   "version": "3.10.6"
  }
 },
 "nbformat": 4,
 "nbformat_minor": 5
}
